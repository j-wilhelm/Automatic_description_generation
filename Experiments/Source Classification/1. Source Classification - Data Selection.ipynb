{
 "cells": [
  {
   "cell_type": "markdown",
   "metadata": {},
   "source": [
    "# Set-Up \n",
    "Run this first section every time, it has important path dependencies. Note that one should change the path variables. In general, the following structure for the data is expected:\n",
    "\n",
    "Data <br>\n",
    "|  Webshop A  <br>\n",
    "|    ├─── ANNOS <br>\n",
    "|    |      ├─── MALE <br>\n",
    "|    |      |    ├─── CAT A <br>\n",
    "|    |      |    |    ├─── ID_1 <br>\n",
    "|    |      |    |    ├─── ID_2 <br>\n",
    "|    |      |    |    ├─── ID_3 <br>\n",
    "|    |      |    ├─── CAT B <br>\n",
    "|    |      |    ├─── CAT C <br>\n",
    "|    |      ├─── Female <br>\n",
    "|    |      |    ├─── CAT D <br>\n",
    "|    |      |    |    ├─── ID_1 <br>\n",
    "|    |      |    |    ├─── ID_2 <br>\n",
    "|    |      |    |    ├─── ID_3 <br>\n",
    "|    |      |    ├─── CAT E <br>\n",
    "|    ├─── IMG <br>\n",
    "├─── Webshop B <br>\n",
    "|    ├─── ANNOS <br>\n",
    "├─── Webshop C <br>"
   ]
  },
  {
   "cell_type": "code",
   "execution_count": 1,
   "metadata": {},
   "outputs": [],
   "source": [
    "# Import\n",
    "import pandas as pd\n",
    "import numpy as np\n",
    "from tqdm.notebook import tqdm\n",
    "import random\n",
    "import json\n",
    "import string\n",
    "import pickle\n",
    "from sklearn import preprocessing, metrics\n",
    "import os\n",
    "from tensorflow.keras.preprocessing import text, sequence\n",
    "from tensorflow.keras import layers, models, optimizers\n",
    "from tensorflow.keras.utils import to_categorical\n",
    "from tensorflow.keras.utils import plot_model"
   ]
  },
  {
   "cell_type": "code",
   "execution_count": 4,
   "metadata": {},
   "outputs": [],
   "source": [
    "def create_cnn(maxwords, nr_classes, dimensions, word_index, embedding_matrix):\n",
    "    # Add input layer\n",
    "    input_layer = layers.Input((maxwords, ))\n",
    "    \n",
    "    # Add the word embedding layer\n",
    "    embedding_layer = layers.Embedding(len(word_index) + 1, dimensions, weights = [embedding_matrix], \n",
    "                                       trainable = False)(input_layer)\n",
    "    embedding_layer = layers.SpatialDropout1D(0.25)(embedding_layer)\n",
    "    \n",
    "    # Add convolutional layer\n",
    "    conv_layer = layers.Convolution1D(maxwords, 3, activation = \"relu\")(embedding_layer)\n",
    "    \n",
    "    # Add pooling layer\n",
    "    pooling_layer = layers.GlobalMaxPool1D()(conv_layer)\n",
    "    \n",
    "    \n",
    "    # Add output layers\n",
    "    output_layer1 = layers.Dense(50, activation=\"relu\")(pooling_layer)\n",
    "    output_layer1 = layers.Dropout(0.25)(output_layer1)\n",
    "    output_layer2 = layers.Dense(nr_classes, activation=\"sigmoid\")(output_layer1)\n",
    "    \n",
    "    model = models.Model(inputs = input_layer, outputs = output_layer2)\n",
    "    model.compile(optimizer = optimizers.Adam(), loss = 'categorical_crossentropy',metrics = ['categorical_accuracy','accuracy'])\n",
    "    \n",
    "    return model"
   ]
  },
  {
   "cell_type": "code",
   "execution_count": 5,
   "metadata": {},
   "outputs": [],
   "source": [
    "base_path = r'E:\\\\Jelmer\\\\Uni\\\\Thesis\\\\Data'"
   ]
  },
  {
   "cell_type": "code",
   "execution_count": 6,
   "metadata": {},
   "outputs": [],
   "source": [
    "# Get list of folders, exclude some which do not have the standard structure\n",
    "shops = []\n",
    "for folder in os.listdir(base_path):\n",
    "    if (os.path.isdir(os.path.join(base_path, folder))) & (folder not in ['1. NEW_BRAND','DeepFashion','Zara','ADIDAS',\"FARFETCH\", \"Preprocessed\"]):\n",
    "        shops.append(os.path.join(base_path, folder))"
   ]
  },
  {
   "cell_type": "markdown",
   "metadata": {},
   "source": [
    "# Training a classification model"
   ]
  },
  {
   "cell_type": "code",
   "execution_count": 5,
   "metadata": {
    "scrolled": true
   },
   "outputs": [],
   "source": [
    "# Function to randomly select a nr_items of paths to articles per web shop. It takes from the different categories. \n",
    "def get_stratified_sample_paths(path, nr_items_train = 1000, nr_items_test = 250):\n",
    "    \"\"\"Returns the paths to a specified number of items for a particular webshop based on a stratified sample across item categories.\n",
    "    path: str - path name to annos folder of a webshop.\n",
    "    nr_items: the number of items in total to return.\"\"\"\n",
    "    item_paths = []\n",
    "    items_per_cat = {}\n",
    "    to_select_per_cat = {}\n",
    "    test_paths = []\n",
    "    train_paths = []\n",
    "    \n",
    "    annos_path = os.path.join(path, \"ANNOS\")\n",
    "    clothing_categories = os.listdir(annos_path)\n",
    "    \n",
    "    # Check whether men / women categories exist\n",
    "    if \"MEN\" in clothing_categories:\n",
    "        clothing_categories = []\n",
    "        for gender in [\"MEN\", \"WOMEN\"]:\n",
    "            new_path = os.path.join(annos_path, gender)\n",
    "            \n",
    "            for cat in os.listdir(new_path):\n",
    "                last_part_of_path = os.path.join(gender, cat)\n",
    "                clothing_categories.append(last_part_of_path)\n",
    "    \n",
    "    for cat in clothing_categories:\n",
    "        cat_path = os.path.join(annos_path, cat)\n",
    "        items_per_cat[cat] = len(os.listdir(cat_path))\n",
    "        \n",
    "    total_items = sum(items_per_cat.values())\n",
    "#     print(\"There are a total of {} items spread over {} categories for this webshop\".format(total_items,len(clothing_categories)))\n",
    "    \n",
    "    # Check whether there are more items available then needed; if not, return all items.\n",
    "    if total_items <= nr_items_train + nr_items_test:\n",
    "        for cat in clothing_categories:\n",
    "#             print(cat, path)\n",
    "            cat_path = os.path.join(annos_path, cat)\n",
    "            for item in os.listdir(cat_path):\n",
    "                if item.endswith(\".txt\"):\n",
    "                    item_paths.append(os.path.join(cat_path, item))\n",
    "                    \n",
    "        test_paths = random.sample(item_paths, nr_items_test)\n",
    "        train_paths = set(item_paths) - set(test_paths)\n",
    "        return train_paths, test_paths\n",
    "    \n",
    "    \n",
    "    # If there are more items available than needed take a selection\n",
    "    for cat in clothing_categories:\n",
    "        items_to_select_train = items_per_cat[cat] / total_items * nr_items_train\n",
    "        items_to_select_test = items_per_cat[cat] / total_items * nr_items_test\n",
    "        cat_path = os.path.join(annos_path, cat)\n",
    "        all_items = os.listdir(cat_path)\n",
    "        \n",
    "        test_paths_cat = random.sample(all_items,int(items_to_select_test))\n",
    "        remaining_paths_cat = set(all_items) - set(test_paths_cat)\n",
    "        train_paths_cat = random.sample(remaining_paths_cat, int(items_to_select_train))\n",
    "        test_paths += [os.path.join(cat_path, path) for path in test_paths_cat]\n",
    "        train_paths += [os.path.join(cat_path, path) for path in train_paths_cat]\n",
    "    return train_paths, test_paths"
   ]
  },
  {
   "cell_type": "code",
   "execution_count": 6,
   "metadata": {},
   "outputs": [
    {
     "data": {
      "application/vnd.jupyter.widget-view+json": {
       "model_id": "d0f12b2bd430439baa252f677fc67b59",
       "version_major": 2,
       "version_minor": 0
      },
      "text/plain": [
       "HBox(children=(FloatProgress(value=0.0, max=11.0), HTML(value='')))"
      ]
     },
     "metadata": {},
     "output_type": "display_data"
    },
    {
     "name": "stdout",
     "output_type": "stream",
     "text": [
      "\n"
     ]
    }
   ],
   "source": [
    "# Get paths\n",
    "random.seed(0)\n",
    "train_paths_all, test_paths_all = [], []\n",
    "for shop_path in tqdm(shops):\n",
    "#     print(shop_path)\n",
    "    train_paths, test_paths = get_stratified_sample_paths(shop_path, 1000, 250)\n",
    "    train_paths_all += train_paths\n",
    "    test_paths_all += test_paths\n",
    "# Ensure test_paths do not contain train_paths as well\n"
   ]
  },
  {
   "cell_type": "code",
   "execution_count": 7,
   "metadata": {},
   "outputs": [],
   "source": [
    "train_paths = [path for path in train_paths_all if path not in test_paths_all]"
   ]
  },
  {
   "cell_type": "code",
   "execution_count": 8,
   "metadata": {},
   "outputs": [
    {
     "data": {
      "text/plain": [
       "(2612, 9949, 9949)"
      ]
     },
     "execution_count": 8,
     "metadata": {},
     "output_type": "execute_result"
    }
   ],
   "source": [
    "len(test_paths_all), len(train_paths_all), len(train_paths)"
   ]
  },
  {
   "cell_type": "code",
   "execution_count": 9,
   "metadata": {},
   "outputs": [],
   "source": [
    "shop_mapping = {}\n",
    "it = 0\n",
    "for shop in shops:\n",
    "    shop_mapping[shop] = it\n",
    "    it += 1"
   ]
  },
  {
   "cell_type": "code",
   "execution_count": 10,
   "metadata": {},
   "outputs": [],
   "source": [
    "# Function which loads a description and cleans it\n",
    "def get_description(item_path):\n",
    "    with open(item_path, 'r', encoding = \"utf8\") as f:\n",
    "        item_dict = json.load(f)\n",
    "    try:\n",
    "        description = item_dict['description']\n",
    "        if (description == \"\") | (description is None):\n",
    "            return \"\",\"\",\"\"\n",
    "    except KeyError:\n",
    "        return \"\",\"\",\"\"\n",
    "    # Clean description\n",
    "    # remove punctuation\n",
    "    description = description.translate(str.maketrans('', '', string.punctuation))\n",
    "    description = description.lower()\n",
    "    description = description.replace(\"<p>\",\"\")\n",
    "    description = description.replace(\"</p>\",\"\")\n",
    "    \n",
    "    tokenized_description = description.split()\n",
    "    \n",
    "    tokenized_description = [word for word in tokenized_description if word.isalpha()]\n",
    "    label_shop = shop_mapping[item_path.split(\"\\\\ANNOS\")[0]]\n",
    "    label_cloth_cat = item_path.split(\"\\\\\")[-2]\n",
    "    \n",
    "    return ' '.join(tokenized_description), label_shop, label_cloth_cat"
   ]
  },
  {
   "cell_type": "code",
   "execution_count": 11,
   "metadata": {},
   "outputs": [],
   "source": [
    "# function to load all descriptions and labels from a set of item_paths\n",
    "def load_descriptions(item_paths):\n",
    "    nr_items = len(item_paths)\n",
    "    print(\"Loading {} items\".format(nr_items))\n",
    "    description_dict = {}\n",
    "    label_dict = {}\n",
    "    iterator = 0\n",
    "    for item in tqdm(item_paths):\n",
    "        iterator += 1\n",
    "        try:\n",
    "            desc, shop, _ = get_description(item)\n",
    "            item_ID = item.split(\"\\\\\")[-1]\n",
    "            if desc == \"\":\n",
    "                continue\n",
    "            description_dict[item_ID] = desc\n",
    "            label_dict[item_ID] = shop\n",
    "        except UnicodeDecodeError:\n",
    "            continue\n",
    "    return description_dict, label_dict"
   ]
  },
  {
   "cell_type": "code",
   "execution_count": 12,
   "metadata": {},
   "outputs": [
    {
     "name": "stdout",
     "output_type": "stream",
     "text": [
      "Loading 9949 items\n"
     ]
    },
    {
     "data": {
      "application/vnd.jupyter.widget-view+json": {
       "model_id": "990efe4a41ae4e96bc9ab298d180ee31",
       "version_major": 2,
       "version_minor": 0
      },
      "text/plain": [
       "HBox(children=(FloatProgress(value=0.0, max=9949.0), HTML(value='')))"
      ]
     },
     "metadata": {},
     "output_type": "display_data"
    },
    {
     "name": "stdout",
     "output_type": "stream",
     "text": [
      "\n",
      "Wall time: 1min 24s\n"
     ]
    }
   ],
   "source": [
    "%%time\n",
    "# Load everything\n",
    "description_dict_train, label_dict_train = load_descriptions(train_paths)\n",
    "train_x = description_dict_train.values()\n",
    "train_y = label_dict_train.values()"
   ]
  },
  {
   "cell_type": "code",
   "execution_count": 13,
   "metadata": {},
   "outputs": [
    {
     "name": "stdout",
     "output_type": "stream",
     "text": [
      "Loading 2612 items\n"
     ]
    },
    {
     "data": {
      "application/vnd.jupyter.widget-view+json": {
       "model_id": "5b3b06d1a0ab4750b566f73422dbad15",
       "version_major": 2,
       "version_minor": 0
      },
      "text/plain": [
       "HBox(children=(FloatProgress(value=0.0, max=2612.0), HTML(value='')))"
      ]
     },
     "metadata": {},
     "output_type": "display_data"
    },
    {
     "name": "stdout",
     "output_type": "stream",
     "text": [
      "\n",
      "Wall time: 2.69 s\n"
     ]
    }
   ],
   "source": [
    "%%time\n",
    "description_dict_test, label_dict_test = load_descriptions(test_paths_all)\n",
    "test_x = description_dict_test.values()\n",
    "test_labels_y = list(label_dict_test.values())"
   ]
  },
  {
   "cell_type": "code",
   "execution_count": 14,
   "metadata": {},
   "outputs": [],
   "source": [
    "test_y = to_categorical(test_labels_y)"
   ]
  },
  {
   "cell_type": "code",
   "execution_count": 15,
   "metadata": {},
   "outputs": [],
   "source": [
    "# Shuffle the train data to improve learning\n",
    "train_data = list(zip(train_x, train_y))\n",
    "random.shuffle(train_data)\n",
    "\n",
    "train_x, train_y = zip(*train_data)"
   ]
  },
  {
   "cell_type": "code",
   "execution_count": 16,
   "metadata": {},
   "outputs": [],
   "source": [
    "train_y = to_categorical(train_y)\n"
   ]
  },
  {
   "cell_type": "code",
   "execution_count": 17,
   "metadata": {},
   "outputs": [],
   "source": [
    "# test max length of a description\n",
    "words_p_desc = [len(item.split()) for item in train_x]\n",
    "maxwords = max(words_p_desc)\n",
    "# Max length is 97"
   ]
  },
  {
   "cell_type": "code",
   "execution_count": 18,
   "metadata": {},
   "outputs": [
    {
     "name": "stdout",
     "output_type": "stream",
     "text": [
      "Wall time: 2min 10s\n"
     ]
    }
   ],
   "source": [
    "%%time\n",
    "# Load GloVe vectors:\n",
    "glove_dir = r'E:\\Jelmer\\Uni\\Thesis\\Data\\glove.6b.200d.txt'\n",
    "embeddings_index = {}\n",
    "\n",
    "f = open(glove_dir, encoding = 'UTF-8')\n",
    "\n",
    "for line in f:\n",
    "    values = line.split()\n",
    "    word = values[0]\n",
    "    coefs = np.asarray(values[1:], dtype = 'float32')\n",
    "    embeddings_index[word] = coefs\n",
    "    \n",
    "f.close()"
   ]
  },
  {
   "cell_type": "code",
   "execution_count": 19,
   "metadata": {},
   "outputs": [],
   "source": [
    "with open(\"embeddings_index_source_classification.p\", \"wb\") as f:\n",
    "    pickle.dump(embeddings_index, f)"
   ]
  },
  {
   "cell_type": "code",
   "execution_count": 20,
   "metadata": {},
   "outputs": [
    {
     "data": {
      "text/plain": [
       "9031"
      ]
     },
     "execution_count": 20,
     "metadata": {},
     "output_type": "execute_result"
    }
   ],
   "source": [
    "len(train_x)"
   ]
  },
  {
   "cell_type": "markdown",
   "metadata": {},
   "source": [
    "## Tokenizer"
   ]
  },
  {
   "cell_type": "code",
   "execution_count": 21,
   "metadata": {},
   "outputs": [],
   "source": [
    "# create a tokenizer \n",
    "token = text.Tokenizer()\n",
    "token.fit_on_texts(train_x)\n",
    "word_index = token.word_index\n",
    "\n",
    "with open(\"tokenizer.p\", \"wb\") as f:\n",
    "    pickle.dump(token, f)\n",
    "\n",
    "# Convert text to sequence of tokens and pad them to ensure equal length vectors (80)\n",
    "train_seq_x = sequence.pad_sequences(token.texts_to_sequences(train_x), maxlen = 70)\n",
    "val_seq_x = sequence.pad_sequences(token.texts_to_sequences(test_x), maxlen = 70)"
   ]
  },
  {
   "cell_type": "code",
   "execution_count": 22,
   "metadata": {},
   "outputs": [],
   "source": [
    "val_seq_x = sequence.pad_sequences(token.texts_to_sequences(test_x), maxlen = 70)"
   ]
  },
  {
   "cell_type": "code",
   "execution_count": 23,
   "metadata": {},
   "outputs": [],
   "source": [
    "dimensions = 200\n",
    "embedding_matrix = np.zeros((len(word_index) + 1, dimensions))\n",
    "for word, i in word_index.items():\n",
    "    embedding_vector = embeddings_index.get(word)\n",
    "    if embedding_vector is not None:\n",
    "        embedding_matrix[i] = embedding_vector"
   ]
  },
  {
   "cell_type": "code",
   "execution_count": 24,
   "metadata": {},
   "outputs": [
    {
     "data": {
      "text/plain": [
       "(9031, 70)"
      ]
     },
     "execution_count": 24,
     "metadata": {},
     "output_type": "execute_result"
    }
   ],
   "source": [
    "with open(\"embedding_matrix_source_classification.p\", \"wb\") as f:\n",
    "    pickle.dump(embedding_matrix, f)\n",
    "train_seq_x.shape"
   ]
  },
  {
   "cell_type": "markdown",
   "metadata": {},
   "source": [
    "# CNN training"
   ]
  },
  {
   "cell_type": "code",
   "execution_count": 26,
   "metadata": {},
   "outputs": [],
   "source": [
    "words_p_desc = 70\n",
    "nr_classes = len(shops)\n",
    "dimensions = 200\n",
    "model_cnn = create_cnn(words_p_desc, nr_classes, dimensions, word_index, embedding_matrix)"
   ]
  },
  {
   "cell_type": "code",
   "execution_count": 27,
   "metadata": {},
   "outputs": [
    {
     "name": "stdout",
     "output_type": "stream",
     "text": [
      "Model: \"model\"\n",
      "_________________________________________________________________\n",
      "Layer (type)                 Output Shape              Param #   \n",
      "=================================================================\n",
      "input_1 (InputLayer)         [(None, 70)]              0         \n",
      "_________________________________________________________________\n",
      "embedding (Embedding)        (None, 70, 200)           1846600   \n",
      "_________________________________________________________________\n",
      "spatial_dropout1d (SpatialDr (None, 70, 200)           0         \n",
      "_________________________________________________________________\n",
      "conv1d (Conv1D)              (None, 68, 70)            42070     \n",
      "_________________________________________________________________\n",
      "global_max_pooling1d (Global (None, 70)                0         \n",
      "_________________________________________________________________\n",
      "dense (Dense)                (None, 50)                3550      \n",
      "_________________________________________________________________\n",
      "dropout (Dropout)            (None, 50)                0         \n",
      "_________________________________________________________________\n",
      "dense_1 (Dense)              (None, 11)                561       \n",
      "=================================================================\n",
      "Total params: 1,892,781\n",
      "Trainable params: 46,181\n",
      "Non-trainable params: 1,846,600\n",
      "_________________________________________________________________\n"
     ]
    }
   ],
   "source": [
    "model_cnn.summary()"
   ]
  },
  {
   "cell_type": "code",
   "execution_count": 67,
   "metadata": {},
   "outputs": [
    {
     "data": {
      "image/png": "[encoded data removed]",
      "text/plain": [
       "<IPython.core.display.Image object>"
      ]
     },
     "execution_count": 67,
     "metadata": {},
     "output_type": "execute_result"
    }
   ],
   "source": [
    "plot_model(model_cnn, \"Model_image.png\")"
   ]
  },
  {
   "cell_type": "code",
   "execution_count": 28,
   "metadata": {},
   "outputs": [
    {
     "data": {
      "text/plain": [
       "array([   0,    0,    0,    0,    0,    0,    0,    0,    0,    0,    0,\n",
       "          0,    0,    0,    0,    0,    0,    0,    0,    0,    0,    0,\n",
       "          0,    0,    0,    0,    0,    0,    0,    0,    0,    0,    8,\n",
       "         22, 1154,  950, 3424,  126,   76, 4809,    3,  488,    7,  248,\n",
       "       3425, 3960,   30,  836, 1265, 3961, 3962,    5, 3426,    7,    1,\n",
       "        644,  229,    7, 3056, 2761,    6,  347, 3963,  184,   37,    5,\n",
       "         22, 1369,   72, 6264])"
      ]
     },
     "execution_count": 28,
     "metadata": {},
     "output_type": "execute_result"
    }
   ],
   "source": [
    "train_seq_x[1000]"
   ]
  },
  {
   "cell_type": "code",
   "execution_count": 29,
   "metadata": {},
   "outputs": [
    {
     "name": "stdout",
     "output_type": "stream",
     "text": [
      "Train on 8127 samples, validate on 904 samples\n",
      "Epoch 1/10\n",
      "8127/8127 [==============================] - 27s 3ms/sample - loss: 1.6311 - categorical_accuracy: 0.4715 - accuracy: 0.4715 - val_loss: 0.7485 - val_categorical_accuracy: 0.7754 - val_accuracy: 0.7754\n",
      "Epoch 2/10\n",
      "8127/8127 [==============================] - 11s 1ms/sample - loss: 0.6931 - categorical_accuracy: 0.7816 - accuracy: 0.7816 - val_loss: 0.4542 - val_categorical_accuracy: 0.8440 - val_accuracy: 0.8440\n",
      "Epoch 3/10\n",
      "8127/8127 [==============================] - 10s 1ms/sample - loss: 0.4580 - categorical_accuracy: 0.8532 - accuracy: 0.8532 - val_loss: 0.3696 - val_categorical_accuracy: 0.8805 - val_accuracy: 0.8805\n",
      "Epoch 4/10\n",
      "8127/8127 [==============================] - 10s 1ms/sample - loss: 0.3508 - categorical_accuracy: 0.8902 - accuracy: 0.8902 - val_loss: 0.3128 - val_categorical_accuracy: 0.8949 - val_accuracy: 0.8949\n",
      "Epoch 5/10\n",
      "8127/8127 [==============================] - 10s 1ms/sample - loss: 0.2746 - categorical_accuracy: 0.9115 - accuracy: 0.9115 - val_loss: 0.2752 - val_categorical_accuracy: 0.9060 - val_accuracy: 0.9060\n",
      "Epoch 6/10\n",
      "8127/8127 [==============================] - 10s 1ms/sample - loss: 0.2255 - categorical_accuracy: 0.9302 - accuracy: 0.9302 - val_loss: 0.2849 - val_categorical_accuracy: 0.9060 - val_accuracy: 0.9060\n",
      "Epoch 7/10\n",
      "8127/8127 [==============================] - 10s 1ms/sample - loss: 0.1988 - categorical_accuracy: 0.9359 - accuracy: 0.9359 - val_loss: 0.2833 - val_categorical_accuracy: 0.9137 - val_accuracy: 0.9137\n",
      "Epoch 8/10\n",
      "8127/8127 [==============================] - 10s 1ms/sample - loss: 0.1624 - categorical_accuracy: 0.9465 - accuracy: 0.9465 - val_loss: 0.2521 - val_categorical_accuracy: 0.9204 - val_accuracy: 0.9204\n",
      "Epoch 9/10\n",
      "8127/8127 [==============================] - 14s 2ms/sample - loss: 0.1344 - categorical_accuracy: 0.9577 - accuracy: 0.9577 - val_loss: 0.2705 - val_categorical_accuracy: 0.9170 - val_accuracy: 0.9170\n",
      "Epoch 10/10\n",
      "8127/8127 [==============================] - 11s 1ms/sample - loss: 0.1335 - categorical_accuracy: 0.9587 - accuracy: 0.9587 - val_loss: 0.2686 - val_categorical_accuracy: 0.9192 - val_accuracy: 0.9192\n"
     ]
    }
   ],
   "source": [
    "cnn_history = model_cnn.fit(train_seq_x, train_y, batch_size = 32, epochs = 10, shuffle = True, validation_split = 0.1)"
   ]
  },
  {
   "cell_type": "code",
   "execution_count": 30,
   "metadata": {},
   "outputs": [],
   "source": [
    "predictions = model_cnn.predict(val_seq_x)"
   ]
  },
  {
   "cell_type": "code",
   "execution_count": 31,
   "metadata": {},
   "outputs": [],
   "source": [
    "predictions = predictions.argmax(axis = -1)"
   ]
  },
  {
   "cell_type": "code",
   "execution_count": 32,
   "metadata": {},
   "outputs": [
    {
     "data": {
      "text/plain": [
       "array([ 0,  0,  0, ..., 10, 10, 10], dtype=int64)"
      ]
     },
     "execution_count": 32,
     "metadata": {},
     "output_type": "execute_result"
    }
   ],
   "source": [
    "predictions"
   ]
  },
  {
   "cell_type": "code",
   "execution_count": 33,
   "metadata": {},
   "outputs": [
    {
     "data": {
      "text/plain": [
       "0.9270965023177412"
      ]
     },
     "execution_count": 33,
     "metadata": {},
     "output_type": "execute_result"
    }
   ],
   "source": [
    "metrics.accuracy_score(predictions, test_labels_y)"
   ]
  },
  {
   "cell_type": "code",
   "execution_count": 34,
   "metadata": {},
   "outputs": [
    {
     "data": {
      "text/plain": [
       "array([[211,   1,   0,  10,   3,   2,  10,   0,   1,   2,   0],\n",
       "       [  0, 211,   0,   1,   1,   0,   2,   0,   6,   2,   0],\n",
       "       [  0,   0, 236,   0,   0,   0,   2,   0,   0,   0,   0],\n",
       "       [  8,   5,   0, 102,   3,   1,   6,   1,  10,  10,  17],\n",
       "       [  3,   0,   0,   3, 218,   0,   4,   0,   2,   0,   6],\n",
       "       [  0,   0,   0,   0,   0, 221,   0,   0,   0,   0,   0],\n",
       "       [  3,   0,   0,   2,   3,   1, 214,   0,   0,   2,  10],\n",
       "       [  0,   0,   0,   1,   2,   0,   2, 249,   3,   0,   2],\n",
       "       [  3,   5,   0,   4,   0,   0,   0,   0, 173,   2,   0],\n",
       "       [  0,   1,   0,   3,   1,   0,   0,   0,   1, 150,   0],\n",
       "       [  0,   0,   0,   0,   0,   0,   0,   0,   0,   0, 215]],\n",
       "      dtype=int64)"
      ]
     },
     "execution_count": 34,
     "metadata": {},
     "output_type": "execute_result"
    }
   ],
   "source": [
    "metrics.confusion_matrix(predictions, test_labels_y)"
   ]
  },
  {
   "cell_type": "code",
   "execution_count": 35,
   "metadata": {},
   "outputs": [
    {
     "name": "stdout",
     "output_type": "stream",
     "text": [
      "Saved model to disk\n"
     ]
    }
   ],
   "source": [
    "model_json = model_cnn.to_json()\n",
    "with open(\"model_cnn.json\", \"w\") as json_file:\n",
    "    json_file.write(model_json)\n",
    "# serialize weights to HDF5\n",
    "model_cnn.save_weights(\"model_cnn.h5\")\n",
    "print(\"Saved model to disk\")"
   ]
  },
  {
   "cell_type": "markdown",
   "metadata": {},
   "source": [
    "# Test predictions by generation models\n",
    "Results folder should have following structure: <br>\n",
    ". <br>\n",
    "Results <br>\n",
    "----w1_results <br>\n",
    "--------all_results <br>\n",
    "----w2_results <br>\n",
    "--------all_results <br>\n",
    "----w3_results <br>\n",
    "--------all_results <br>\n",
    "----w4_results <br>\n",
    "--------all_results <br>"
   ]
  },
  {
   "cell_type": "code",
   "execution_count": 2,
   "metadata": {},
   "outputs": [],
   "source": [
    "base_path = r'E:\\\\Jelmer\\\\Uni\\\\Thesis\\\\Data'\n",
    "# Get list of folders, exclude some which do not have the standard structure\n",
    "shops = []\n",
    "for folder in os.listdir(base_path):\n",
    "    if (os.path.isdir(os.path.join(base_path, folder))) & (folder not in ['1. NEW_BRAND','DeepFashion','Zara','ADIDAS',\"FARFETCH\", \"Preprocessed\"]):\n",
    "        shops.append(os.path.join(base_path, folder))"
   ]
  },
  {
   "cell_type": "code",
   "execution_count": 8,
   "metadata": {},
   "outputs": [],
   "source": [
    "with open(\"embedding_matrix_source_classification.p\", \"rb\") as f:\n",
    "    embedding_matrix = pickle.load(f)\n",
    "with open(\"tokenizer.p\", \"rb\") as f:\n",
    "    token = pickle.load(f)\n",
    "word_index = token.word_index\n",
    "words_p_desc = 70\n",
    "nr_classes = len(shops)\n",
    "dimensions = 200\n",
    "model_cnn = create_cnn(words_p_desc, nr_classes, dimensions, word_index, embedding_matrix)\n",
    "model_cnn.load_weights(\"model_cnn.h5\")"
   ]
  },
  {
   "cell_type": "code",
   "execution_count": 9,
   "metadata": {},
   "outputs": [],
   "source": [
    "# Test RL, MA, AE, UO preds and refs\n",
    "res_path = r\"C:\\Users\\s159655\\Documents\\JADS\\Thesis\\RESULTS\\Results_Paper\"\n",
    "with open(os.path.join(res_path, \"rl_results\", \"all_results\", \"results_dictRL_config_411.json\"), 'r') as f:\n",
    "    rl_res = json.load(f)\n",
    "with open(os.path.join(res_path, \"ma_results\", \"all_results\", \"results_dictMA_config_411.json\"), 'r') as f:\n",
    "    ma_res = json.load(f)\n",
    "with open(os.path.join(res_path, \"uo_results\", \"all_results\", \"results_dictUO_config_411.json\"), 'r') as f:\n",
    "    uo_res = json.load(f)\n",
    "with open(os.path.join(res_path, \"ae_results\", \"all_results\", \"results_dictAE_config_411.json\"), 'r') as f:\n",
    "    ae_res = json.load(f)"
   ]
  },
  {
   "cell_type": "code",
   "execution_count": 10,
   "metadata": {},
   "outputs": [],
   "source": [
    "preds_rl, refs_rl = rl_res[\"PREDICTIONS\"], rl_res[\"REFERENCES\"]\n",
    "preds_ma, refs_ma = ma_res[\"PREDICTIONS\"], ma_res[\"REFERENCES\"]\n",
    "preds_ae, refs_ae = ae_res[\"PREDICTIONS\"], ae_res[\"REFERENCES\"]\n",
    "preds_uo, refs_uo = uo_res[\"PREDICTIONS\"], uo_res[\"REFERENCES\"]"
   ]
  },
  {
   "cell_type": "code",
   "execution_count": 11,
   "metadata": {},
   "outputs": [],
   "source": [
    "def compute_webshop_results(preds, refs, label):\n",
    "    labels = [label for i in range(len(preds))]\n",
    "    refs = [i[0] for i in refs]\n",
    "    predsx = sequence.pad_sequences(token.texts_to_sequences(preds), maxlen = 70)\n",
    "    refsx = sequence.pad_sequences(token.texts_to_sequences(refs), maxlen = 70)\n",
    "    \n",
    "    # Make predictions\n",
    "    predictions_p = model_cnn.predict(predsx)\n",
    "    predictions_p = predictions_p.argmax(axis = -1)\n",
    "    \n",
    "    predictions_r = model_cnn.predict(refsx)\n",
    "    predictions_r = predictions_r.argmax(axis = -1)\n",
    "    \n",
    "\n",
    "    # Measures\n",
    "    acc_p = metrics.accuracy_score(predictions_p, labels)\n",
    "    acc_r = metrics.accuracy_score(predictions_r, labels)\n",
    "    \n",
    "    # Percentage ref is correct but prediction not\n",
    "    w_style = 0\n",
    "    for ix, p in enumerate(predictions_p):\n",
    "        if p != label:\n",
    "            if predictions_r[ix] == label:\n",
    "                w_style += 1\n",
    "    acc_pofr = w_style / len(labels)\n",
    "    \n",
    "    return acc_p, acc_r, acc_pofr\n",
    "\n",
    "def compute_multiplewebshop_results(preds, refs, refs_list_webshops):\n",
    "    shop_dict = {\"AE\": 0, \"MA\": 4, \"RL\": 8, \"UO\": 9}\n",
    "    \n",
    "    labels = []\n",
    "    for ref in refs:\n",
    "        if ref in refs_list_webshops[\"RL\"]:\n",
    "            labels.append(shop_dict[\"RL\"])\n",
    "        elif ref in refs_list_webshops[\"MA\"]:\n",
    "            labels.append(shop_dict[\"MA\"])\n",
    "        elif ref in refs_list_webshops[\"AE\"]:\n",
    "            labels.append(shop_dict[\"AE\"])\n",
    "        elif ref in refs_list_webshops[\"UO\"]:\n",
    "            labels.append(shop_dict[\"UO\"])\n",
    "        else:\n",
    "            print(\"ref not found: \", ref)\n",
    "    refs = [i[0] for i in refs]\n",
    "    predsx = sequence.pad_sequences(token.texts_to_sequences(preds), maxlen = 70)\n",
    "    refsx = sequence.pad_sequences(token.texts_to_sequences(refs), maxlen = 70)\n",
    "    \n",
    "    # Make predictions\n",
    "    predictions_p = model_cnn.predict(predsx)\n",
    "    predictions_p = predictions_p.argmax(axis = -1)\n",
    "    \n",
    "    predictions_r = model_cnn.predict(refsx)\n",
    "    predictions_r = predictions_r.argmax(axis = -1)\n",
    "    \n",
    "    # Measures\n",
    "    acc_p = metrics.accuracy_score(predictions_p, labels)\n",
    "    acc_r = metrics.accuracy_score(predictions_r, labels)\n",
    "    \n",
    "    # Percentage ref is correct but prediction not\n",
    "    w_style = 0\n",
    "    for ix, p in enumerate(predictions_p):\n",
    "        if p != labels[ix]:\n",
    "            if predictions_r[ix] == labels[ix]:\n",
    "                w_style += 1\n",
    "    acc_pofr = w_style / len(labels)\n",
    "    \n",
    "    return acc_p, acc_r, acc_pofr\n",
    "\n",
    "def compute_results_config(configs):\n",
    "    shop_dict = {\"AE\": 0, \"MA\": 4, \"RL\": 8, \"UO\": 9}\n",
    "    results = []\n",
    "    for config in configs:\n",
    "        print(f\"Working on {config}\")\n",
    "        for webshop in [\"AE\", \"MA\", \"RL\", \"UO\"]:\n",
    "            print(f\"Doing {webshop}\")\n",
    "            # load data\n",
    "            if type(config) == dict:\n",
    "                c = config[\"AE\"]\n",
    "                try:\n",
    "                    with open(os.path.join(res_path, f\"{webshop.lower()}_results\", \"all_results\", f\"results_dict{webshop}_{config[webshop]}\"), 'r') as f:\n",
    "                        resdict = json.load(f)\n",
    "                except FileNotFoundError:\n",
    "                    with open(os.path.join(res_path, f\"{webshop.lower()}_results\", \"all_results\", f\"results_dict_{webshop}_{config[webshop]}\"), 'r') as f:\n",
    "                        resdict = json.load(f)\n",
    "            else:\n",
    "                c = config\n",
    "                with open(os.path.join(res_path, f\"{webshop.lower()}_results\", \"all_results\", f\"results_dict{webshop}_{config}\"), 'r') as f:\n",
    "                    resdict = json.load(f)\n",
    "            preds, refs = resdict[\"PREDICTIONS\"], resdict[\"REFERENCES\"]\n",
    "\n",
    "            label = shop_dict[webshop]\n",
    "\n",
    "            pred_acc, ref_acc, perc_refnotpred = compute_webshop_results(preds, refs, label)\n",
    "            print(\"results:  \", pred_acc, ref_acc, perc_refnotpred)\n",
    "            results.append((c, webshop, pred_acc, ref_acc, perc_refnotpred, len(preds)))\n",
    "            \n",
    "    return results\n",
    "\n",
    "def compute_results_multishop(configs_multi, refs_list):\n",
    "    \"\"\"configs_multi: list with configuration names\n",
    "    refs_dict: dictionary with webshop : [refs]\"\"\"\n",
    "    \n",
    "    results = []\n",
    "    for config in configs_multi:\n",
    "        with open(os.path.join(res_path, \"COMBINED\", f\"results_dict_{config}\"), 'r') as f:\n",
    "                resdict = json.load(f)\n",
    "        preds = resdict[\"PREDICTIONS\"]\n",
    "        refs = resdict[\"REFERENCES\"]\n",
    "        # Load \n",
    "        print(f\"Working on {config}\")\n",
    "        # load data\n",
    "        pred_acc, ref_acc, perc_refnotpred = compute_multiplewebshop_results(preds, refs, refs_list)\n",
    "        print(\"results:  \", pred_acc, ref_acc, perc_refnotpred)\n",
    "        results.append((config, pred_acc, ref_acc, perc_refnotpred))\n",
    "            \n",
    "    return results"
   ]
  },
  {
   "cell_type": "code",
   "execution_count": 54,
   "metadata": {},
   "outputs": [
    {
     "name": "stdout",
     "output_type": "stream",
     "text": [
      "Working on config_411.json\n",
      "Doing AE\n",
      "results:   0.9674609274916731 0.9587496797335383 0.023059185242121444\n",
      "Doing MA\n",
      "results:   0.9636498516320475 0.9499258160237388 0.030044510385756677\n",
      "Doing RL\n",
      "results:   0.9365871036693979 0.9369433558959743 0.050944068400427506\n",
      "Doing UO\n",
      "results:   0.9196891191709845 0.9158031088082902 0.06363341968911918\n",
      "Working on config_402.json\n",
      "Doing AE\n",
      "results:   0.9661798616448886 0.9587496797335383 0.02638995644376121\n",
      "Doing MA\n",
      "results:   0.9699554896142433 0.9499258160237388 0.024851632047477746\n",
      "Doing RL\n",
      "results:   0.940149625935162 0.9369433558959743 0.04809405058781618\n",
      "Doing UO\n",
      "results:   0.9512629533678757 0.9158031088082902 0.039345854922279794\n",
      "Working on config_403.json\n",
      "Doing AE\n",
      "results:   0.9736100435562388 0.9587496797335383 0.021009479887266206\n",
      "Doing MA\n",
      "results:   0.9755192878338279 0.9499258160237388 0.020029673590504452\n",
      "Doing RL\n",
      "results:   0.9504809405058782 0.9369433558959743 0.04096900605628785\n",
      "Doing UO\n",
      "results:   0.9238989637305699 0.9158031088082902 0.06152849740932642\n",
      "Working on config_409.json\n",
      "Doing AE\n",
      "results:   0.9723289777094543 0.9587496797335383 0.02024084037919549\n",
      "Doing MA\n",
      "results:   0.962166172106825 0.9499258160237388 0.03301186943620178\n",
      "Doing RL\n",
      "results:   0.9362308514428215 0.9369433558959743 0.05023156394727467\n",
      "Doing UO\n",
      "results:   0.9156411917098446 0.9158031088082902 0.06913860103626943\n"
     ]
    }
   ],
   "source": [
    "style_results = compute_results_config([\"config_411.json\", \"config_402.json\", \"config_403.json\", \"config_409.json\"])"
   ]
  },
  {
   "cell_type": "code",
   "execution_count": 55,
   "metadata": {},
   "outputs": [
    {
     "name": "stdout",
     "output_type": "stream",
     "text": [
      "Working on {'AE': 'config_6.json', 'UO': 'config_6.json', 'MA': 'config_6.json', 'RL': 'config_66.json'}\n",
      "Doing AE\n",
      "results:   0.9738662567255957 0.9587496797335383 0.01870356136305406\n",
      "Doing MA\n",
      "results:   0.9770029673590505 0.9499258160237388 0.018916913946587538\n",
      "Doing RL\n",
      "results:   0.9429996437477735 0.9369433558959743 0.04631278945493409\n",
      "Doing UO\n",
      "results:   0.9632448186528497 0.9158031088082902 0.028335492227979275\n",
      "Working on {'AE': 'config_10.json', 'UO': 'config_10.json', 'MA': 'config_10.json', 'RL': 'config_72.json'}\n",
      "Doing AE\n",
      "results:   0.9866769151934409 0.9587496797335383 0.008967460927491674\n",
      "Doing MA\n",
      "results:   0.9888724035608308 0.9499258160237388 0.008160237388724036\n",
      "Doing RL\n",
      "results:   0.9832561453509084 0.9369433558959743 0.01460634128963306\n",
      "Doing UO\n",
      "results:   0.9386334196891192 0.9158031088082902 0.052461139896373056\n",
      "Wall time: 1min 1s\n"
     ]
    }
   ],
   "source": [
    "%%time\n",
    "style_results_2 = compute_results_config([{\"AE\": \"config_6.json\", \"UO\": \"config_6.json\", \"MA\": \"config_6.json\", \n",
    "                                           \"RL\": \"config_66.json\"}, {\"AE\": \"config_10.json\", \"UO\": \"config_10.json\", \"MA\": \"config_10.json\", \n",
    "                                           \"RL\": \"config_72.json\"}])"
   ]
  },
  {
   "cell_type": "code",
   "execution_count": 56,
   "metadata": {},
   "outputs": [],
   "source": [
    "style_results.extend(style_results_2)"
   ]
  },
  {
   "cell_type": "code",
   "execution_count": null,
   "metadata": {},
   "outputs": [],
   "source": [
    "style_results = pd.DataFrame(style_results, columns = [\"Configuration\", \"Accuracy Predictions\", \"Accuracy References\", \"Additional Wrong Styles\", \"Nr. References\"])\n",
    "style_results.head()"
   ]
  },
  {
   "cell_type": "code",
   "execution_count": 61,
   "metadata": {},
   "outputs": [],
   "source": [
    "style_results.to_excel(\"Classification_style_acc_p_webshop.xlsx\")"
   ]
  },
  {
   "cell_type": "code",
   "execution_count": 60,
   "metadata": {},
   "outputs": [
    {
     "data": {
      "text/html": [
       "<div>\n",
       "<style scoped>\n",
       "    .dataframe tbody tr th:only-of-type {\n",
       "        vertical-align: middle;\n",
       "    }\n",
       "\n",
       "    .dataframe tbody tr th {\n",
       "        vertical-align: top;\n",
       "    }\n",
       "\n",
       "    .dataframe thead th {\n",
       "        text-align: right;\n",
       "    }\n",
       "</style>\n",
       "<table border=\"1\" class=\"dataframe\">\n",
       "  <thead>\n",
       "    <tr style=\"text-align: right;\">\n",
       "      <th></th>\n",
       "      <th>Nr. References</th>\n",
       "      <th>Nr. Wrong - Preds</th>\n",
       "      <th>Nr. Wrong - Refs</th>\n",
       "      <th>Accuracy Predictions</th>\n",
       "      <th>Accuracy References</th>\n",
       "    </tr>\n",
       "    <tr>\n",
       "      <th>Configuration</th>\n",
       "      <th></th>\n",
       "      <th></th>\n",
       "      <th></th>\n",
       "      <th></th>\n",
       "      <th></th>\n",
       "    </tr>\n",
       "  </thead>\n",
       "  <tbody>\n",
       "    <tr>\n",
       "      <th>config_10.json</th>\n",
       "      <td>15582</td>\n",
       "      <td>508.0</td>\n",
       "      <td>993.0</td>\n",
       "      <td>0.967398</td>\n",
       "      <td>0.936273</td>\n",
       "    </tr>\n",
       "    <tr>\n",
       "      <th>config_402.json</th>\n",
       "      <td>15582</td>\n",
       "      <td>682.0</td>\n",
       "      <td>993.0</td>\n",
       "      <td>0.956232</td>\n",
       "      <td>0.936273</td>\n",
       "    </tr>\n",
       "    <tr>\n",
       "      <th>config_403.json</th>\n",
       "      <td>15582</td>\n",
       "      <td>778.0</td>\n",
       "      <td>993.0</td>\n",
       "      <td>0.950071</td>\n",
       "      <td>0.936273</td>\n",
       "    </tr>\n",
       "    <tr>\n",
       "      <th>config_409.json</th>\n",
       "      <td>15582</td>\n",
       "      <td>910.0</td>\n",
       "      <td>993.0</td>\n",
       "      <td>0.941599</td>\n",
       "      <td>0.936273</td>\n",
       "    </tr>\n",
       "    <tr>\n",
       "      <th>config_411.json</th>\n",
       "      <td>15582</td>\n",
       "      <td>899.0</td>\n",
       "      <td>993.0</td>\n",
       "      <td>0.942305</td>\n",
       "      <td>0.936273</td>\n",
       "    </tr>\n",
       "    <tr>\n",
       "      <th>config_6.json</th>\n",
       "      <td>15582</td>\n",
       "      <td>551.0</td>\n",
       "      <td>993.0</td>\n",
       "      <td>0.964639</td>\n",
       "      <td>0.936273</td>\n",
       "    </tr>\n",
       "  </tbody>\n",
       "</table>\n",
       "</div>"
      ],
      "text/plain": [
       "                 Nr. References  Nr. Wrong - Preds  Nr. Wrong - Refs  \\\n",
       "Configuration                                                          \n",
       "config_10.json            15582              508.0             993.0   \n",
       "config_402.json           15582              682.0             993.0   \n",
       "config_403.json           15582              778.0             993.0   \n",
       "config_409.json           15582              910.0             993.0   \n",
       "config_411.json           15582              899.0             993.0   \n",
       "config_6.json             15582              551.0             993.0   \n",
       "\n",
       "                 Accuracy Predictions  Accuracy References  \n",
       "Configuration                                               \n",
       "config_10.json               0.967398             0.936273  \n",
       "config_402.json              0.956232             0.936273  \n",
       "config_403.json              0.950071             0.936273  \n",
       "config_409.json              0.941599             0.936273  \n",
       "config_411.json              0.942305             0.936273  \n",
       "config_6.json                0.964639             0.936273  "
      ]
     },
     "execution_count": 60,
     "metadata": {},
     "output_type": "execute_result"
    }
   ],
   "source": [
    "# Compute combined accuracy for these web shops\n",
    "style_results[\"Nr. Wrong - Preds\"] = (1 - style_results[\"Accuracy Predictions\"])*style_results[\"Nr. References\"]\n",
    "style_results[\"Nr. Wrong - Refs\"] = (1 - style_results[\"Accuracy References\"])*style_results[\"Nr. References\"]\n",
    "combined_individual = pd.DataFrame(style_results.groupby(\"Configuration\")[[\"Nr. References\", \"Nr. Wrong - Preds\", \n",
    "                                                                           \"Nr. Wrong - Refs\"]].sum())\n",
    "combined_individual[\"Accuracy Predictions\"] = 1 - (combined_individual[\"Nr. Wrong - Preds\"]/combined_individual[\"Nr. References\"])\n",
    "combined_individual[\"Accuracy References\"] = 1 - (combined_individual[\"Nr. Wrong - Refs\"]/combined_individual[\"Nr. References\"])\n",
    "combined_individual                                   "
   ]
  },
  {
   "cell_type": "code",
   "execution_count": 62,
   "metadata": {},
   "outputs": [],
   "source": [
    "combined_individual.to_excel(\"Classification_style_acc_individs.xlsx\")"
   ]
  },
  {
   "cell_type": "code",
   "execution_count": 13,
   "metadata": {},
   "outputs": [],
   "source": [
    "refs_dict = {\"RL\": refs_rl, \"AE\": refs_ae, \"MA\": refs_ma, \"UO\": refs_uo}"
   ]
  },
  {
   "cell_type": "code",
   "execution_count": 14,
   "metadata": {},
   "outputs": [
    {
     "name": "stdout",
     "output_type": "stream",
     "text": [
      "Working on combined_config_1.json\n",
      "results:   0.6228340392760878 0.9362726222564498 0.3436657681940701\n",
      "Working on combined_config_21.json\n",
      "results:   0.964381979206777 0.9362726222564498 0.02990630214349891\n",
      "Working on combined_config_22.json\n",
      "results:   0.9718264664356309 0.9362726222564498 0.02323193428314722\n",
      "Working on combined_config_23.json\n",
      "results:   0.9328070850981902 0.9362726222564498 0.05884995507637017\n",
      "Working on combined_config_24.json\n",
      "results:   0.9435887562572198 0.9362726222564498 0.0496726992683866\n",
      "Working on combined_config_25.json\n",
      "results:   0.9737517648568862 0.9362726222564498 0.023552817353356438\n",
      "Working on combined_config_26.json\n",
      "results:   0.9715055833654216 0.9362726222564498 0.02297522782697985\n",
      "Working on combined_config_27.json\n",
      "results:   0.9129765113592607 0.9362726222564498 0.07739699653446284\n",
      "Working on combined_config_28.json\n",
      "results:   0.9073289693235785 0.9362726222564498 0.08464895392119112\n",
      "Working on combined_config_30.json\n",
      "results:   0.9645745090489026 0.9362726222564498 0.030034655371582595\n",
      "Working on combined_config_31.json\n",
      "results:   0.9738801180849699 0.9362726222564498 0.02194840200231036\n"
     ]
    }
   ],
   "source": [
    "combined_webshops = [1] + list(range(21, 29)) + [30, 31]\n",
    "combined_webshops = [f\"combined_config_{x}.json\" for x in combined_webshops]\n",
    "style_results_multi_config = compute_results_multishop(combined_webshops , refs_dict)"
   ]
  },
  {
   "cell_type": "code",
   "execution_count": 18,
   "metadata": {},
   "outputs": [],
   "source": [
    "style_results_multi_config = pd.DataFrame(style_results_multi_config, columns=[\"Configuration\", \"Accuracy Predictions\", \"Accuracy References\", \"Additional Wrong Styles\"])"
   ]
  },
  {
   "cell_type": "code",
   "execution_count": 19,
   "metadata": {},
   "outputs": [],
   "source": [
    "style_results_multi_config.to_excel(\"Classification_style_acc_combined.xlsx\")"
   ]
  },
  {
   "cell_type": "code",
   "execution_count": 4,
   "metadata": {},
   "outputs": [
    {
     "data": {
      "text/html": [
       "<div>\n",
       "<style scoped>\n",
       "    .dataframe tbody tr th:only-of-type {\n",
       "        vertical-align: middle;\n",
       "    }\n",
       "\n",
       "    .dataframe tbody tr th {\n",
       "        vertical-align: top;\n",
       "    }\n",
       "\n",
       "    .dataframe thead th {\n",
       "        text-align: right;\n",
       "    }\n",
       "</style>\n",
       "<table border=\"1\" class=\"dataframe\">\n",
       "  <thead>\n",
       "    <tr style=\"text-align: right;\">\n",
       "      <th></th>\n",
       "      <th>Configuration</th>\n",
       "      <th>Webshop</th>\n",
       "      <th>Accuracy Predictions</th>\n",
       "      <th>Accuracy References</th>\n",
       "      <th>Additional Wrong Styles</th>\n",
       "    </tr>\n",
       "  </thead>\n",
       "  <tbody>\n",
       "    <tr>\n",
       "      <th>0</th>\n",
       "      <td>config_411.json</td>\n",
       "      <td>AE</td>\n",
       "      <td>0.967461</td>\n",
       "      <td>0.958750</td>\n",
       "      <td>0.023059</td>\n",
       "    </tr>\n",
       "    <tr>\n",
       "      <th>1</th>\n",
       "      <td>config_411.json</td>\n",
       "      <td>MA</td>\n",
       "      <td>0.963650</td>\n",
       "      <td>0.949926</td>\n",
       "      <td>0.030045</td>\n",
       "    </tr>\n",
       "    <tr>\n",
       "      <th>2</th>\n",
       "      <td>config_411.json</td>\n",
       "      <td>RL</td>\n",
       "      <td>0.936587</td>\n",
       "      <td>0.936943</td>\n",
       "      <td>0.050944</td>\n",
       "    </tr>\n",
       "    <tr>\n",
       "      <th>3</th>\n",
       "      <td>config_411.json</td>\n",
       "      <td>UO</td>\n",
       "      <td>0.919689</td>\n",
       "      <td>0.915803</td>\n",
       "      <td>0.063633</td>\n",
       "    </tr>\n",
       "    <tr>\n",
       "      <th>4</th>\n",
       "      <td>config_402.json</td>\n",
       "      <td>AE</td>\n",
       "      <td>0.966180</td>\n",
       "      <td>0.958750</td>\n",
       "      <td>0.026390</td>\n",
       "    </tr>\n",
       "  </tbody>\n",
       "</table>\n",
       "</div>"
      ],
      "text/plain": [
       "     Configuration Webshop  Accuracy Predictions  Accuracy References  \\\n",
       "0  config_411.json      AE              0.967461             0.958750   \n",
       "1  config_411.json      MA              0.963650             0.949926   \n",
       "2  config_411.json      RL              0.936587             0.936943   \n",
       "3  config_411.json      UO              0.919689             0.915803   \n",
       "4  config_402.json      AE              0.966180             0.958750   \n",
       "\n",
       "   Additional Wrong Styles  \n",
       "0                 0.023059  \n",
       "1                 0.030045  \n",
       "2                 0.050944  \n",
       "3                 0.063633  \n",
       "4                 0.026390  "
      ]
     },
     "execution_count": 4,
     "metadata": {},
     "output_type": "execute_result"
    }
   ],
   "source": [
    "with open(\"tmp_a.p\", 'rb') as f:\n",
    "    style_results_multi_config = pickle.load(f)\n",
    "with open(\"tmp_b.p\", 'rb') as f:\n",
    "    style_results = pickle.load(f)\n",
    "style_results = pd.DataFrame(style_results, columns=[\"Configuration\", \"Webshop\", \"Accuracy Predictions\", \"Accuracy References\", \"Additional Wrong Styles\"])\n",
    "style_results.head()"
   ]
  },
  {
   "cell_type": "code",
   "execution_count": null,
   "metadata": {},
   "outputs": [],
   "source": []
  },
  {
   "cell_type": "code",
   "execution_count": 36,
   "metadata": {},
   "outputs": [
    {
     "name": "stdout",
     "output_type": "stream",
     "text": [
      "Working on combined_config_1.json\n",
      "results:   0.6228340392760878 0.9362726222564498 0.3436657681940701\n"
     ]
    }
   ],
   "source": [
    "style_results_multi_config_2 = compute_results_multishop([\"combined_config_1.json\"] , refs_dict)"
   ]
  },
  {
   "cell_type": "code",
   "execution_count": 37,
   "metadata": {},
   "outputs": [],
   "source": [
    "with open(\"tmp_a.p\", 'rb') as f:\n",
    "    style_results_multi_config = pickle.load(f)"
   ]
  },
  {
   "cell_type": "code",
   "execution_count": 38,
   "metadata": {},
   "outputs": [
    {
     "data": {
      "text/html": [
       "<div>\n",
       "<style scoped>\n",
       "    .dataframe tbody tr th:only-of-type {\n",
       "        vertical-align: middle;\n",
       "    }\n",
       "\n",
       "    .dataframe tbody tr th {\n",
       "        vertical-align: top;\n",
       "    }\n",
       "\n",
       "    .dataframe thead th {\n",
       "        text-align: right;\n",
       "    }\n",
       "</style>\n",
       "<table border=\"1\" class=\"dataframe\">\n",
       "  <thead>\n",
       "    <tr style=\"text-align: right;\">\n",
       "      <th></th>\n",
       "      <th>Configuration</th>\n",
       "      <th>Accuracy Preds</th>\n",
       "      <th>Accuracy Refs</th>\n",
       "      <th>Wrong styles</th>\n",
       "    </tr>\n",
       "  </thead>\n",
       "  <tbody>\n",
       "    <tr>\n",
       "      <th>0</th>\n",
       "      <td>combined_config_24.json</td>\n",
       "      <td>0.943589</td>\n",
       "      <td>0.936273</td>\n",
       "      <td>0.049673</td>\n",
       "    </tr>\n",
       "    <tr>\n",
       "      <th>1</th>\n",
       "      <td>combined_config_30.json</td>\n",
       "      <td>0.964575</td>\n",
       "      <td>0.936273</td>\n",
       "      <td>0.030035</td>\n",
       "    </tr>\n",
       "    <tr>\n",
       "      <th>2</th>\n",
       "      <td>combined_config_31.json</td>\n",
       "      <td>0.973880</td>\n",
       "      <td>0.936273</td>\n",
       "      <td>0.021948</td>\n",
       "    </tr>\n",
       "    <tr>\n",
       "      <th>3</th>\n",
       "      <td>combined_config_1.json</td>\n",
       "      <td>0.622834</td>\n",
       "      <td>0.936273</td>\n",
       "      <td>0.343666</td>\n",
       "    </tr>\n",
       "  </tbody>\n",
       "</table>\n",
       "</div>"
      ],
      "text/plain": [
       "             Configuration  Accuracy Preds  Accuracy Refs  Wrong styles\n",
       "0  combined_config_24.json        0.943589       0.936273      0.049673\n",
       "1  combined_config_30.json        0.964575       0.936273      0.030035\n",
       "2  combined_config_31.json        0.973880       0.936273      0.021948\n",
       "3   combined_config_1.json        0.622834       0.936273      0.343666"
      ]
     },
     "execution_count": 38,
     "metadata": {},
     "output_type": "execute_result"
    }
   ],
   "source": [
    "style_results_multi_config_2 = pd.DataFrame(style_results_multi_config_2, columns=[\"Configuration\", \"Accuracy Preds\", \"Accuracy Refs\", \"Wrong styles\"])\n",
    "style_results_multi_config = style_results_multi_config.append(style_results_multi_config_2, ignore_index=True)\n",
    "style_results_multi_config"
   ]
  },
  {
   "cell_type": "code",
   "execution_count": 39,
   "metadata": {},
   "outputs": [],
   "source": [
    "style_results_multi_config.to_excel(\"Classification_style_acc_combined.xlsx\")"
   ]
  },
  {
   "cell_type": "code",
   "execution_count": 77,
   "metadata": {},
   "outputs": [
    {
     "data": {
      "text/plain": [
       "{'E:\\\\\\\\Jelmer\\\\\\\\Uni\\\\\\\\Thesis\\\\\\\\Data\\\\AE': 0,\n",
       " 'E:\\\\\\\\Jelmer\\\\\\\\Uni\\\\\\\\Thesis\\\\\\\\Data\\\\LACOSTE': 1,\n",
       " 'E:\\\\\\\\Jelmer\\\\\\\\Uni\\\\\\\\Thesis\\\\\\\\Data\\\\LOAVIES': 2,\n",
       " 'E:\\\\\\\\Jelmer\\\\\\\\Uni\\\\\\\\Thesis\\\\\\\\Data\\\\LUCKYBRAND': 3,\n",
       " 'E:\\\\\\\\Jelmer\\\\\\\\Uni\\\\\\\\Thesis\\\\\\\\Data\\\\MADEWELL': 4,\n",
       " 'E:\\\\\\\\Jelmer\\\\\\\\Uni\\\\\\\\Thesis\\\\\\\\Data\\\\MANGO': 5,\n",
       " 'E:\\\\\\\\Jelmer\\\\\\\\Uni\\\\\\\\Thesis\\\\\\\\Data\\\\MONKI': 6,\n",
       " 'E:\\\\\\\\Jelmer\\\\\\\\Uni\\\\\\\\Thesis\\\\\\\\Data\\\\pullandbear': 7,\n",
       " 'E:\\\\\\\\Jelmer\\\\\\\\Uni\\\\\\\\Thesis\\\\\\\\Data\\\\RL': 8,\n",
       " 'E:\\\\\\\\Jelmer\\\\\\\\Uni\\\\\\\\Thesis\\\\\\\\Data\\\\URBAN': 9,\n",
       " 'E:\\\\\\\\Jelmer\\\\\\\\Uni\\\\\\\\Thesis\\\\\\\\Data\\\\WILDFOX': 10}"
      ]
     },
     "execution_count": 77,
     "metadata": {},
     "output_type": "execute_result"
    }
   ],
   "source": [
    "shop_mapping"
   ]
  },
  {
   "cell_type": "markdown",
   "metadata": {},
   "source": [
    "# Appendix A\n",
    "Used for checking whether files were found correctly etc."
   ]
  },
  {
   "cell_type": "code",
   "execution_count": 98,
   "metadata": {},
   "outputs": [],
   "source": [
    "def get_dict_keys(item_path):\n",
    "    with open(item_path, 'r') as f:\n",
    "        item_dict = json.load(f)\n",
    "    return item_dicta"
   ]
  },
  {
   "cell_type": "code",
   "execution_count": 99,
   "metadata": {},
   "outputs": [],
   "source": [
    "single_item_paths = []\n",
    "for shop in shops:\n",
    "    path = os.path.join(shop, \"ANNOS\",\"MEN\")\n",
    "    \n",
    "    try:\n",
    "        folders = os.listdir(path)\n",
    "    except FileNotFoundError:\n",
    "        path = os.path.join(shop, \"ANNOS\")\n",
    "        folders = os.listdir(path)\n",
    "    path_b = os.path.join(path, folders[0])\n",
    "    items = os.listdir(path_b)\n",
    "    item_path = os.path.join(path_b, items[0])\n",
    "    single_item_paths.append(item_path)"
   ]
  },
  {
   "cell_type": "code",
   "execution_count": 139,
   "metadata": {
    "scrolled": true
   },
   "outputs": [
    {
     "name": "stdout",
     "output_type": "stream",
     "text": [
      "E:\\\\Jelmer\\\\Uni\\\\Thesis\\\\Data\\AE\\ANNOS\\MEN\\Accessories & Socks\\AE_0221-5922_001.txt\n",
      "Put a cap on it (your head).\n",
      "E:\\\\Jelmer\\\\Uni\\\\Thesis\\\\Data\\FARFETCH\\ANNOS\\MEN\\Coats\\FARFETCH_10757455.txt\n",
      "Green feather down 'Landford' parka from Canada Goose featuring a hood with detachable fur trim, a concealed zip fastening, a velcro fastening, long sleeves, side pockets, front flap pockets with a logo patch and a logo patch to the arm.\n",
      "E:\\\\Jelmer\\\\Uni\\\\Thesis\\\\Data\\LACOSTE\\ANNOS\\MEN\\Bags\\LC_NH2102NE_058.txt\n",
      "Equipped with an exterior zip pocket, this vertical bag is both lightweight and practical. Perfect for zipping around the city.\n",
      "E:\\\\Jelmer\\\\Uni\\\\Thesis\\\\Data\\LOAVIES\\ANNOS\\BAGS\\ LOAV80542.txt\n",
      "For those must carry essentials! The Black Queen bum bag belt by LOAVIES features a zipper closure, an adjustable belt and comes in black colour with croc print all over. Style this hottie with a top, jeans and sneakers for a casual and stunning look!\n",
      "E:\\\\Jelmer\\\\Uni\\\\Thesis\\\\Data\\LUCKYBRAND\\ANNOS\\MEN\\Activewear\\LB_7M71697_300.txt\n",
      "Not only will you look relaxed in this casual pullover, but you'll feel just as relaxed in our softer than soft signature burnout.\n",
      "E:\\\\Jelmer\\\\Uni\\\\Thesis\\\\Data\\MADEWELL\\ANNOS\\MEN\\Bags\\MW_AA103_BK5229.txt\n",
      "Part tote, part knapsack, this oversized convertible bag has both top handles and backpack straps. Crafted from durable nylon with luxe leather details, it has a main zippered compartment to keep your stuff safe and three more pockets inside and out for those smaller things you use most often (like, ahem, your phone).\n",
      "E:\\\\Jelmer\\\\Uni\\\\Thesis\\\\Data\\MANGO\\ANNOS\\MEN\\Coats\\MA_51023026_08.txt\n",
      "Midi design. Flowy fabric. Lapel-collar. Long sleeve. Two side pockets. Loops. Removable belt. Inner lining. Button fastening on the front.\n",
      "E:\\\\Jelmer\\\\Uni\\\\Thesis\\\\Data\\MONKI\\ANNOS\\Bags, wallets & belts\\MO_0484986005_Blossom girl.txt\n",
      "</p>We're crazy for the beach. And even crazier for this wide, on-point beach bag, with twin rope handles and a zippered inner pocket for small valuables. Made of 100% cotton.</p>  Measurements: 45 * 50 cm</p></p>\n",
      "E:\\\\Jelmer\\\\Uni\\\\Thesis\\\\Data\\pullandbear\\ANNOS\\MEN\\Caps and hats\\PB_9831500_700.txt\n",
      "Brown cap with a curved peak, a contrast butterfly patch on the front panel and adjustable fastening at the back.\n",
      "E:\\\\Jelmer\\\\Uni\\\\Thesis\\\\Data\\RL\\ANNOS\\MEN\\Bags\\MA_314287_BLACK.txt\n",
      "Constructed in Italy from hand-selected American alligator, this elegant bag is an ultra-luxurious way to carry your documents, magazines and laptop. It features a high-gloss finish, exterior piping made from hand-cut-and-stained leather and a soft cowhide interior with multiple pockets for storing important items.\n",
      "E:\\\\Jelmer\\\\Uni\\\\Thesis\\\\Data\\URBAN\\ANNOS\\MEN\\Bags + Wallets\\UO_29231925_001.txt\n",
      "Essential bifold wallet from Herschel Supply Co. Woven canvas construction topped with a logo patch at the front. Complete with multiple interior slit card holders and a large currency holder.\n",
      "E:\\\\Jelmer\\\\Uni\\\\Thesis\\\\Data\\WILDFOX\\ANNOS\\Bottoms\\WF_DBB201BMN_None.txt\n",
      "The Shields Flare is a classic high-rise boot cut jean featuring a raw hem, pockets and zipper closure.\n"
     ]
    }
   ],
   "source": [
    "for path in single_item_paths:\n",
    "    print(path)\n",
    "    item_dict = get_dict_keys(path)\n",
    "    if \"description\" in item_dict.keys():\n",
    "        print(item_dict['description'])\n",
    "    else:\n",
    "        print(\"description not found as key; all keys present in {} are {}\".format(path.split(\"\\\\Data\"[1]),item_dict.keys()))"
   ]
  },
  {
   "cell_type": "markdown",
   "metadata": {},
   "source": [
    "All items have \"description\" as a key."
   ]
  }
 ],
 "metadata": {
  "kernelspec": {
   "display_name": "Python 3",
   "language": "python",
   "name": "python3"
  },
  "language_info": {
   "codemirror_mode": {
    "name": "ipython",
    "version": 3
   },
   "file_extension": ".py",
   "mimetype": "text/x-python",
   "name": "python",
   "nbconvert_exporter": "python",
   "pygments_lexer": "ipython3",
   "version": "3.7.5"
  }
 },
 "nbformat": 4,
 "nbformat_minor": 2
}
